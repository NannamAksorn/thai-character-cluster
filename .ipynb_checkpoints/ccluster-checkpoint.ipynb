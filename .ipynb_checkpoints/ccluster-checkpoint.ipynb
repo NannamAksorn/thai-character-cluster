{
 "cells": [
  {
   "cell_type": "markdown",
   "metadata": {},
   "source": [
    "# Thai Character Cluster based on Dr. Virach Sornlertlamvanich "
   ]
  },
  {
   "cell_type": "code",
   "execution_count": 1,
   "metadata": {},
   "outputs": [],
   "source": [
    "import re"
   ]
  },
  {
   "cell_type": "code",
   "execution_count": 2,
   "metadata": {},
   "outputs": [],
   "source": [
    "field = 'หากคุณรับน้องแมวมาเลี้ยงหรือมีคนให้น้องแมวมา คุณอาจจะไม่รู้ว่าเค้าอายุเท่าไร ซึ่งวิธีที่ง่ายที่สุดก็คือ พาน้องแมวไปหาสัตวแพทย์เพื่อให้คาดคะเนอายุให้ วันนี้เราลองมาดูกันว่าสัตวแพทย์มีวิธีคาดคะเนอายุน้องแมวอย่างไร เผื่อบางทีเราอาจจะคาดเดาอายุของน้องแมวแบบคร่าวๆได้ด้วยตัวเอง'"
   ]
  },
  {
   "cell_type": "markdown",
   "metadata": {},
   "source": [
    "# Character Types"
   ]
  },
  {
   "cell_type": "code",
   "execution_count": 3,
   "metadata": {},
   "outputs": [],
   "source": [
    "# t = match begining of the line\n",
    "# q = optional\n",
    "# Thai consonants พยัญชนะต้น\n",
    "consonant = '[กขฃคฅฆงจฉชซฌญฎฏฐฑฒณดตถทธนบปผฝพฟภมยรลวศษสหฬอฮ]'\n",
    "consonantq = '[กขฃคฅฆงจฉชซฌญฎฏฐฑฒณดตถทธนบปผฝพฟภมยรลวศษสหฬอฮ]?'\n",
    "tconsonant = '^[กขฃคฅฆงจฉชซฌญฎฏฐฑฒณดตถทธนบปผฝพฟภมยรลวศษสหฬอฮ]'\n",
    "\n",
    "# Final consonant (speller) ตัวสะกด\n",
    "fconsonant = '[กขคฆงจชซญฎฏฐฑฒณดตถทธนบปพฟภมยรลวศษสฬอ]'\n",
    "tfconsonant = '^[กขคฆงจชซญฎฏฐฑฒณดตถทธนบปพฟภมยรลวศษสฬอ]'\n",
    "\n",
    "# Mixed cluster consonant พยัญชนะควบกล้ำทั้งหมด\n",
    "consonantc = '[กขคจฉซตถทบปผพฟศส]'\n",
    "tconsonantc = '^[กขคจฉซตถทบปผพฟศส]'\n",
    "\n",
    "# Cluster consonant with lo พยัญชนะควบ \"ล\"\n",
    "consonantl = '[กขคฉถบปผพฟ]'\n",
    "tconsonantl = '^[กขคฉถบปผพฟ]'\n",
    "\n",
    "# Cluster consonant with wo พยัญชนะควบ \"ว\"\n",
    "consonantw = '[กขค]'\n",
    "tconsonantw = '^[กขค]'\n",
    "\n",
    "# Cluster consonant with ho พยัญชนะ \"ห\" นำ\n",
    "consonanth = '[งญนมยรลว]'\n",
    "\n",
    "# Final character in mae kor kar กก, กด, กบ, กง, กน, กม, + กอ\n",
    "fkconsonant = '[กดบงนมอ]'\n",
    "\n",
    "# Thai vowel character\n",
    "vowel = '[ะาิีึืุูโเแัำไใฤฦ]'\n",
    "vowelq = '[ะาิีึืุูโเแัำไใฤฦ]?'\n",
    "\n",
    "# Thai tonal mark\n",
    "tone = '[่้๊๋]'\n",
    "toneq = '[่้๊๋]?'\n",
    "\n",
    "# Thai number\n",
    "number = '[๐๑๒๓๔๕๖๗๘๙]'\n",
    "\n",
    "# Thai special character\n",
    "special = '[็์ฯๆาฺํ()!?:;,.]'\n",
    "\n",
    "# Character that must follow a character\n",
    "strongbondchar = '[ะัาำิีึืฺุู็่้๊๋์]'\n",
    "nstrongbondchar = '[^ะัาำิีึืฺุู็่้๊๋์]'\n",
    "\n",
    "# Character that never used in start position (of word)\n",
    "nonstartchar = '[ะัาำิีึืฺุูๆ็่้๊๋์ฯ]'\n",
    "\n",
    "# Character that never used in end position (of word)\n",
    "nonendchar = '[เแโใไั]'\n",
    "\n",
    "# Character that never used in the second position (of word)\n",
    "nonsecondchar = '[ๆ์]'\n",
    "\n",
    "# English Alphabet\n",
    "alphabet = '[A-Za-z]'\n",
    "\n",
    "# Number\n",
    "number = '[0-9]'"
   ]
  },
  {
   "cell_type": "markdown",
   "metadata": {},
   "source": [
    "# - Default Rule"
   ]
  },
  {
   "cell_type": "code",
   "execution_count": 4,
   "metadata": {},
   "outputs": [],
   "source": [
    "# Rule d1 ; ฯลฯ\n",
    "rule_d1 = r'ฯลฯ'\n",
    "\n",
    "# Rule d2 ; Alphabet\n",
    "rule_d2 = r'{}+'.format(alphabet)\n",
    "\n",
    "# Rule d3 ; Number\n",
    "rule_d3 = r'{}+'.format(number)\n",
    "\n",
    "# Rule d4 ; Attach ร์, ดิ์, ตร์, ทธิ์, ถุ์ to the existing previous unit\n",
    "rule_d4 = r'{}{}{}์'.format(consonant, consonantq, vowelq)\n",
    "\n",
    "# Rule d5 ; Attach non-starting char to the existing previous unit\n",
    "rule_d5 = r'{}'.format(nonstartchar)"
   ]
  },
  {
   "cell_type": "markdown",
   "metadata": {},
   "source": [
    "# - Level 0 very risky rule, apply to all types of cluster "
   ]
  },
  {
   "cell_type": "code",
   "execution_count": 5,
   "metadata": {},
   "outputs": [],
   "source": [
    "# Rule l0.1 ใคร, ใกล้ ???? สา|เกล้|น|แก้ว, โคล้|อมวง\n",
    "rule_l0_1 = r'[เแไใโ]{}[รลว]{}'.format(consonantc,toneq)\n",
    "\n",
    "# Rule l0.2 ; ไหน, ไหล่\n",
    "rule_l0_2 = r'[เแไใโ]ห{}{}'.format(consonanth, toneq)\n",
    "\n",
    "# Rule l0.3 ; ครัว, ครั้ง ???? สิ|บวัน\n",
    "rule_l0_3 = r'{}[รลว]ั{}{}'.format(consonantc,toneq,fconsonant)\n",
    "\n",
    "# Rule l0.4 ; หนัง, หยั่ง\n",
    "rule_l0_4 = r'ห{}ั{}{}'.format(consonanth, toneq,fconsonant)\n",
    "\n",
    "# Rule l0.5 ; คลำ, ประ, ??? แบ|บระ|บบ, แบ|บระ|ดับ\n",
    "rule_l0_5 = r'{}[รลว]{}[ะำ]'.format(consonantc,toneq)\n",
    "\n",
    "# Rule l0.6 ; หนำ, หวะ\n",
    "rule_l0_6 = r'ห{}{}[ะำ]'.format(consonanth, toneq)\n",
    "\n",
    "# Rule l0.7 ; เสร็จ\n",
    "rule_l0_7 = r'[เแ]{}[รลว]็{}'.format(consonantc,fconsonant)\n",
    "\n",
    "# Rule l0.8 ; เหม็น\n",
    "rule_l0_8 = r'[เแ]ห{}็{}'.format(consonanth,fconsonant)\n",
    "\n",
    "# Rule l0.9 ; แคระ, โคร่ะ ????\n",
    "rule_l0_9 = r'[เแโ]{}[รลว]{}ะ'.format(consonantc, toneq)\n",
    "\n",
    "# Rule l0.10 ; โหละ โหล่ะ\n",
    "rule_l0_10 = r'[เแโ]ห{}{}ะ'.format(consonanth, toneq)\n",
    "\n",
    "# Rule l0.11 ; เพราะ, เพร๋าะ\n",
    "rule_l0_11 = r'เ{}[รลว]{}าะ'.format(consonantc, toneq)\n",
    "\n",
    "# Rule l0.12 ; เหวาะ, เหร๊าะ\n",
    "rule_l0_12 = r'เห{}{}าะ'.format(consonanth, toneq)\n",
    "\n",
    "# Rule l0.13 ; เคว้า, เขย่า\n",
    "rule_l0_13 = r'เ{}[รลว]{}า'.format(consonantc, toneq)\n",
    "\n",
    "# Rule l0.14 ; เหว่า\n",
    "rule_l0_14 = r'เห{}{}า'.format(consonanth, toneq)\n",
    "\n",
    "# Rule l0.15 ; เกรอะ\n",
    "rule_l0_15 = r'เ{}[รลว]{}อะ'.format(consonantc, toneq)\n",
    "\n",
    "# Rule l0.16 ; เหล้อะ\n",
    "rule_l0_16 = r'เห{}{}อะ'.format(consonanth, toneq)\n",
    "\n",
    "# Rule l0.17 ; เคล๋ ????\n",
    "rule_l0_17 = r'เ{}[รลว]{}'.format(consonantc, toneq)\n",
    "\n",
    "# Rule l0.18 ; เหล๋\n",
    "rule_l0_18 = r'เห{}{}'.format(consonanth, toneq)\n",
    "\n",
    "# Rule l0.19 ; เคลียะ\n",
    "rule_l0_19 = r'เ{}[รลว]ี{}ยะ'.format(consonantc, toneq)\n",
    "\n",
    "# Rule l0.20 ; เหรียะ\n",
    "rule_l0_20 = r'เห{}ี{}ยะ'.format(consonanth, toneq)\n",
    "\n",
    "# Rule l0.21 ; เครือะ\n",
    "rule_l0_21 = r'เ{}[รลว]ื{}อะ'.format(consonantc, toneq)\n",
    "\n",
    "# Rule l0.22 ; เหรือะ\n",
    "rule_l0_22 = r'เห{}ื{}อะ'.format(consonanth, toneq)"
   ]
  },
  {
   "cell_type": "markdown",
   "metadata": {},
   "source": [
    "# - Level 1 cluster consonant may take additional final consonant."
   ]
  },
  {
   "cell_type": "code",
   "execution_count": 6,
   "metadata": {},
   "outputs": [],
   "source": [
    "rule_l1_1 = r'เ{}[รลว]ี?{}ย'.format(consonantc, toneq)\n",
    "\n",
    "# Rule l1.2 ; เหลี่ย|ม\n",
    "rule_l1_2 = r'เห{}ี?{}ย'.format(consonanth, toneq)\n",
    "\n",
    "# Rule l1.3 ; เคลือ เครอ\n",
    "rule_l1_3 = r'เ{}[รลว]ื?{}อ'.format(consonantc, toneq)\n",
    "\n",
    "# Rule l1.4 ; เหลือ\n",
    "rule_l1_4 = r'เห{}ื?{}อ'.format(consonanth, toneq)\n",
    "\n",
    "# Rule l1.5 ; ???? มา|กว่า\n",
    "rule_l1_5 = r'{}[รลว]{}า'.format(consonantc,toneq)\n",
    "\n",
    "# Rule l1.6 ; หนา, หน้า\n",
    "rule_l1_6 = 'ห{}{}า'.format(consonanth,toneq)\n",
    "\n",
    "# Rule l1.7 ; ???? สรุ|ป\n",
    "rule_l1_7 = '{}[รลว][ิีุู]{}'.format(consonantc,toneq)\n",
    "\n",
    "# Rule l1.8 ; หลี|อ\n",
    "rule_l1_8 = 'ห{}[ิี]{}'.format(consonanth, toneq)"
   ]
  },
  {
   "cell_type": "markdown",
   "metadata": {},
   "source": [
    "# - Level 2 never take any more final consonant."
   ]
  },
  {
   "cell_type": "code",
   "execution_count": 7,
   "metadata": {},
   "outputs": [],
   "source": [
    "# Rule 1 ; กัน\n",
    "rule_1 = '{}ั{}{}'.format(consonant,toneq,fconsonant)\n",
    "\n",
    "# Rule 1.1 ; ก็\n",
    "rule_1_1 = '{}็'.format(consonant)\n",
    "\n",
    "# Rule 1.2 ; กำ น่ะ\n",
    "rule_1_2 = '{}{}[ะำ]'.format(consonant, toneq)\n",
    "\n",
    "# Rule 2 ; กั๊วะ\n",
    "rule_2 = '{}ั{}วะ'.format(consonant, toneq)\n",
    "\n",
    "# Rule 3 ; เห็น\n",
    "rule_3 = '[เแ]{}็{}'.format(consonant, fconsonant)\n",
    "\n",
    "# Rule 4 ; โฮ๋ะ\n",
    "rule_4 = '[เแโ]{}{}ะ'.format(consonant, toneq)\n",
    "\n",
    "# Rule 5 ; เงาะ\n",
    "rule_5 = 'เ{}{}าะ'.format(consonant, toneq)\n",
    "\n",
    "# Rule 6 ; เงา\n",
    "rule_6 = 'เ{}{}า'.format(consonant, toneq)\n",
    "\n",
    "# Rule 7 ; เงอะ\n",
    "rule_7 = 'เ{}{}อะ'.format(consonant, toneq)\n",
    "\n",
    "# Rule 8 ; เงิก\n",
    "rule_8 = 'เ{}ิ{}{}'.format(consonant, toneq, fconsonant)\n",
    "\n",
    "# Rule 9 ; เงียะ\n",
    "rule_9 = 'เ{}ี{}ยะ'.format(consonant, toneq)\n",
    "\n",
    "# Rule 10 ; เงือะ \n",
    "rule_10 =  'เ{}ื{}อะ'.format(consonant, toneq)\n",
    "\n",
    "# Rule 11 ; หวย ???\n",
    "rule_11 = '{}{}ว{}'.format(consonant, toneq, fconsonant)\n",
    "\n",
    "# Rule 12 ; กฤศ\n",
    "rule_12 = '{}ฤ{}'.format(consonant, fconsonant)\n",
    "\n",
    "# Rule 12.1 ; ให้\n",
    "rule_12_1 = 'ใ{}{}'.format(consonant, toneq)\n",
    "\n",
    "# Rule 16.1 ; หืม\n",
    "rule_16_1 = '{}[ึื]{}{}'.format(consonant, toneq, fconsonant)"
   ]
  },
  {
   "cell_type": "markdown",
   "metadata": {},
   "source": [
    "# - Level 3 may take additional final consonant."
   ]
  },
  {
   "cell_type": "code",
   "execution_count": 8,
   "metadata": {},
   "outputs": [],
   "source": [
    "# Rule 13 ; เมีย, เนย\n",
    "rule_13 = 'เ{}ี?{}ย'.format(consonant, toneq)\n",
    "\n",
    "# Rule 14 ; เสือ, เออ\n",
    "rule_14 = 'เ{}ื?{}อ'.format(consonant, toneq)\n",
    "\n",
    "# Rule 15 ; ง่า\n",
    "rule_15 = '{}{}า'.format(consonant, toneq)\n",
    "\n",
    "# Rule 16 ; งี่ งิ งุ งู\n",
    "rule_16 = '{}[ิีุู]{}'.format(consonant, toneq)\n",
    "\n",
    "# Rule 17 ; แง่\n",
    "rule_17 = '[เแไโ]{}{}'.format(consonant, toneq)"
   ]
  },
  {
   "cell_type": "markdown",
   "metadata": {},
   "source": [
    "# - Ad hoc rule"
   ]
  },
  {
   "cell_type": "code",
   "execution_count": 9,
   "metadata": {},
   "outputs": [],
   "source": [
    "# Rule a1 ; อย่า\n",
    "rule_a1 = 'อย{}า'.format(toneq)\n",
    "\n",
    "# Rule a2 ; อยู่\n",
    "rule_a2 = 'อย[ูุ]{}'.format(toneq)\n",
    "\n",
    "# Rule a3 ; หล่น\n",
    "rule_a3 = 'ห{}{}{}'.format(consonanth, tone, fkconsonant)\n",
    "\n",
    "# Rule a4 ; หน่วย\n",
    "rule_a4 = 'ห{}{}ว{}'.format(consonanth, tone, fconsonant)\n",
    "\n",
    "# Rule a5 ; ช่ง\n",
    "rule_a5 = '{}{}{}'.format(consonant, tone, fkconsonant)\n",
    "# Rule a6 ; อ้วน\n",
    "rule_a6 = '{}{}ว{}'.format(consonant, tone, fkconsonant)\n",
    "\n",
    "#rule d5"
   ]
  },
  {
   "cell_type": "markdown",
   "metadata": {},
   "source": [
    "# All TCC rules. Please Comment out risky rule"
   ]
  },
  {
   "cell_type": "code",
   "execution_count": 10,
   "metadata": {},
   "outputs": [],
   "source": [
    "rules = {\n",
    "    'd1': rule_d1,\n",
    "    'd2': rule_d2,\n",
    "    'd3': rule_d3,\n",
    "    'd4': rule_d4,\n",
    "    'd5': rule_d5,\n",
    "    \n",
    "    'l0_1': rule_l0_1,\n",
    "    'l0_2': rule_l0_2,\n",
    "    'l0_3': rule_l0_3,\n",
    "    'l0_4': rule_l0_4,\n",
    "    'l0_5': rule_l0_5,\n",
    "    'l0_6': rule_l0_6,\n",
    "    'l0_7': rule_l0_7,\n",
    "    'l0_8': rule_l0_8,\n",
    "    'l0_9': rule_l0_9,\n",
    "    'l0_10': rule_l0_10,\n",
    "    'l0_11': rule_l0_11,\n",
    "    'l0_12': rule_l0_12,\n",
    "    'l0_13': rule_l0_13,\n",
    "    'l0_14': rule_l0_14,\n",
    "    'l0_15': rule_l0_15,\n",
    "    'l0_16': rule_l0_16,\n",
    "    'l0_17': rule_l0_17,\n",
    "    'l0_18': rule_l0_18,\n",
    "    'l0_19': rule_l0_19,\n",
    "    'l0_20': rule_l0_20,\n",
    "    'l0_20': rule_l0_20,\n",
    "    'l0_21': rule_l0_21,\n",
    "    'l0_22': rule_l0_22,\n",
    "    \n",
    "    'l1_1': rule_l1_1,\n",
    "    'l1_2': rule_l1_2,\n",
    "    'l1_3': rule_l1_3,\n",
    "    'l1_4': rule_l1_4,\n",
    "    'l1_5': rule_l1_5,\n",
    "    'l1_6': rule_l1_6,\n",
    "    'l1_7': rule_l1_7,\n",
    "    'l1_8': rule_l1_8,\n",
    "    \n",
    "    '1': rule_1,\n",
    "    '1_1': rule_1_1,\n",
    "    '1_2': rule_1_2,\n",
    "    '2': rule_2,\n",
    "    '3': rule_3,\n",
    "    '4': rule_4,\n",
    "    '5': rule_5,\n",
    "    '6': rule_6,\n",
    "    '7': rule_7,\n",
    "    '8': rule_8,\n",
    "    '9': rule_9,\n",
    "    '10': rule_10,\n",
    "    '11': rule_11,\n",
    "    '12': rule_12,\n",
    "    '12_1': rule_12_1,\n",
    "    '16_1': rule_16_1,\n",
    "    \n",
    "    '13': rule_13,\n",
    "    '14': rule_14,\n",
    "    '15': rule_15,\n",
    "    '16': rule_16,\n",
    "    '17': rule_17,\n",
    "    \n",
    "    'a1': rule_a1,\n",
    "    'a2': rule_a2,\n",
    "    'a3': rule_a3,\n",
    "    'a4': rule_a4,\n",
    "    'a5': rule_a5,\n",
    "    'a6': rule_a6\n",
    "}"
   ]
  },
  {
   "cell_type": "code",
   "execution_count": 11,
   "metadata": {},
   "outputs": [
    {
     "data": {
      "text/plain": [
       "['เหรือะ']"
      ]
     },
     "execution_count": 11,
     "metadata": {},
     "output_type": "execute_result"
    }
   ],
   "source": [
    "test = \"เพราะ, เพร๋าะ เหวาะ, เหร๊าะ, เหรือะ,เครือะ,เหลี่ยม เหล้ย, เครอ\"\n",
    "re.findall(rule_l0_22, test)"
   ]
  },
  {
   "cell_type": "markdown",
   "metadata": {},
   "source": [
    "# Thai Character Cluster Function"
   ]
  },
  {
   "cell_type": "code",
   "execution_count": 12,
   "metadata": {},
   "outputs": [],
   "source": [
    "def tcc_segment(field):\n",
    "    '''Apply Thai Character Cluster segmentation to field'''\n",
    "    output = []\n",
    "    rule_list = []\n",
    "    rlength = 1\n",
    "    i = 0\n",
    "    while i < len(field):\n",
    "        for rid in rules:\n",
    "            sub_field = field[i:]\n",
    "            match = re.match(rules[rid], sub_field)\n",
    "            if match:\n",
    "                rule_list.append(rid)\n",
    "                output.append(match.group())\n",
    "                rlength = match.end()\n",
    "                break\n",
    "        if not match:\n",
    "            rlength = 1\n",
    "            rule_list.append(\"x\")\n",
    "            output.append(sub_field[0])\n",
    "        i += rlength\n",
    "        \n",
    "    # join rule d5\n",
    "    temp_output = [output[0]]\n",
    "    for i in range(1, len(rule_list)):\n",
    "        if rule_list[i] == \"d5\":\n",
    "            temp_output[-1] += output[i]\n",
    "        else:\n",
    "            temp_output.append(output[i])\n",
    "            \n",
    "    print(field)\n",
    "    print()\n",
    "    print(\"|\".join(output))\n",
    "    print()\n",
    "  #  print(\"|\".join(rule_list))"
   ]
  },
  {
   "cell_type": "markdown",
   "metadata": {},
   "source": [
    "# Test"
   ]
  },
  {
   "cell_type": "code",
   "execution_count": 13,
   "metadata": {},
   "outputs": [
    {
     "name": "stdout",
     "output_type": "stream",
     "text": [
      "หากคุณรับน้องแมวมาเลี้ยงหรือมีคนให้น้องแมวมา คุณอาจจะไม่รู้ว่าเค้าอายุเท่าไร ซึ่งวิธีที่ง่ายที่สุดก็คือ พาน้องแมวไปหาสัตวแพทย์เพื่อให้คาดคะเนอายุให้ วันนี้เราลองมาดูกันว่าสัตวแพทย์มีวิธีคาดคะเนอายุน้องแมวอย่างไร เผื่อบางทีเราอาจจะคาดเดาอายุของน้องแมวแบบคร่าวๆได้ด้วยตัวเอง\n",
      "\n",
      "หา|ก|คุ|ณ|รับ|น้อ|ง|แม|ว|มา|เลี้ย|ง|ห|รือ|มี|ค|น|ให้|น้อ|ง|แม|ว|มา| |คุ|ณ|อา|จ|จะ|ไม่|รู้|ว่า|เค้า|อา|ยุ|เท่า|ไร| |ซึ่ง|วิ|ธี|ที่|ง่า|ย|ที่|สุ|ด|ก็|คือ| |พา|น้อ|ง|แม|ว|ไป|หา|สัต|ว|แพ|ทย์|เพื่อ|ให้|คา|ด|คะ|เนอ|า|ยุ|ให้| |วัน|นี้|เรา|ล|อ|ง|มา|ดู|กัน|ว่า|สัต|ว|แพ|ทย์|มี|วิ|ธี|คา|ด|คะ|เนอ|า|ยุ|น้อ|ง|แม|ว|อย่า|ง|ไร| |เผื่อ|บา|ง|ที|เรา|อา|จ|จะ|คา|ด|เดา|อา|ยุ|ข|อ|ง|น้อ|ง|แม|ว|แบ|บ|คร่า|ว|ๆ|ได้|ด้วย|ตัว|เอ|ง\n",
      "\n"
     ]
    }
   ],
   "source": [
    "tcc_segment(field)"
   ]
  },
  {
   "cell_type": "code",
   "execution_count": null,
   "metadata": {},
   "outputs": [],
   "source": []
  }
 ],
 "metadata": {
  "kernelspec": {
   "display_name": "Python 3",
   "language": "python",
   "name": "python3"
  },
  "language_info": {
   "codemirror_mode": {
    "name": "ipython",
    "version": 3
   },
   "file_extension": ".py",
   "mimetype": "text/x-python",
   "name": "python",
   "nbconvert_exporter": "python",
   "pygments_lexer": "ipython3",
   "version": "3.6.8"
  }
 },
 "nbformat": 4,
 "nbformat_minor": 2
}
